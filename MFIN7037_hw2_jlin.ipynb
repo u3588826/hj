{
 "cells": [
  {
   "cell_type": "code",
   "execution_count": 1,
   "id": "f7c04641",
   "metadata": {},
   "outputs": [
    {
     "name": "stdout",
     "output_type": "stream",
     "text": [
      "(1288586, 10)\n",
      "                focal_permno date_of_return  ret_tech_peers    closness  \\\n",
      "date_of_return                                                            \n",
      "2004-03-31             86717     2004-03-31       -0.019743   92.169806   \n",
      "2001-05-31             86717     2001-05-31       -0.026915   76.996010   \n",
      "2015-04-30             86717     2015-04-30        0.008317  345.109972   \n",
      "2018-05-31             86717     2018-05-31        0.032684  230.408746   \n",
      "2020-06-30             86717     2020-06-30        0.051462  221.601276   \n",
      "\n",
      "                num_peers  yearmonth  hexcd        prc       mkt_cap  shrcd  \n",
      "date_of_return                                                               \n",
      "2004-03-31            284    24052.0    3.0   9.720000  1.648901e+05   11.0  \n",
      "2001-05-31            226    24018.0    3.0   6.920000  9.023680e+04   11.0  \n",
      "2015-04-30           1418    24185.0    3.0  26.760000  1.095153e+06   11.0  \n",
      "2018-05-31           1158    24222.0    3.0  47.560001  1.941732e+06   11.0  \n",
      "2020-06-30           2328    24247.0    3.0  50.770000  2.141072e+06   11.0  \n"
     ]
    }
   ],
   "source": [
    "import pandas as pd\n",
    "import datetime\n",
    "import numpy as np\n",
    "\n",
    "# Read and preprocess data\n",
    "data = pd.read_parquet('hw2_signal.parquet', engine='pyarrow')\n",
    "msf = pd.read_parquet('crsp.msf.parquet', engine='pyarrow')[['permno', 'hexcd', 'prc', 'shrout', 'date']]\n",
    "msf['prc'] = msf['prc'].abs()\n",
    "\n",
    "msf['shrout'] *= msf['prc']\n",
    "msf = msf.rename(columns = {'permno': 'focal_permno', 'shrout': 'mkt_cap', 'date': 'date_of_return'})\n",
    "data = data.merge(msf, on = ['focal_permno', 'date_of_return'])\n",
    "\n",
    "dse = pd.read_parquet('crsp.dsenames.parquet', engine='pyarrow')[['permno', 'shrcd']]\n",
    "dse = dse.rename(columns = {'permno': 'focal_permno'})\n",
    "\n",
    "data = data.merge(dse.drop_duplicates(), on = 'focal_permno')\n",
    "\n",
    "data[\"date_of_return\"] = data[\"date_of_return\"].apply(lambda g: datetime.datetime.strptime(g, \"%Y-%m-%d\"))\n",
    "data.index = data[\"date_of_return\"]\n",
    "\n",
    "print(data.shape)\n",
    "print(data.head())\n"
   ]
  },
  {
   "cell_type": "code",
   "execution_count": 2,
   "id": "04494900",
   "metadata": {},
   "outputs": [],
   "source": [
    "# Use quantile function in lecture.\n",
    "def apply_quantiles(x, include_in_quantiles=None, bins=10):\n",
    "    # if the argument is specified, we only include some data in the calculate of breakpoints\n",
    "    if include_in_quantiles is None:\n",
    "        include_in_quantiles = [True] * len(x)\n",
    "    # calculate quantiles (breakpoints)\n",
    "    x = pd.Series(x)\n",
    "    quantiles = np.quantile(\n",
    "        x[x.notnull() & include_in_quantiles],\n",
    "        np.linspace(0, 1, bins+1)\n",
    "    )\n",
    "    quantiles[0] = x.dropna().min() - 1\n",
    "    quantiles[-1] = x.dropna().max() + 1\n",
    "    # cut the data a bit more\n",
    "    return pd.cut(x, quantiles, labels=False, duplicates='drop') + 1"
   ]
  },
  {
   "cell_type": "markdown",
   "id": "bc3f3452",
   "metadata": {},
   "source": [
    "# Part 2 (1)(a)"
   ]
  },
  {
   "cell_type": "code",
   "execution_count": 3,
   "id": "88972727",
   "metadata": {},
   "outputs": [],
   "source": [
    "# Create price & market cap lags\n",
    "lags = 1\n",
    "data = data.groupby('focal_permno', group_keys=0).apply(lambda g: g.sort_index().drop(['prc', 'mkt_cap'], axis=1).join(g.sort_index()[['prc', 'mkt_cap']].shift(lags).rename(columns={'prc':'prc_lag', 'mkt_cap':'mkt_cap_lag'}))).reset_index(drop=1).dropna()\n",
    "\n",
    "# hexcd filter\n",
    "tradeable_data = data[data['hexcd'].isin([1, 2, 3])]\n",
    "tradeable_data = tradeable_data[tradeable_data['shrcd'].isin([10, 11])]\n",
    "\n",
    "# Price filter\n",
    "tradeable_data = tradeable_data[tradeable_data[\"prc_lag\"] > 5]\n",
    "\n",
    "# market cap filter\n",
    "tradeable_data = tradeable_data.groupby('date_of_return').apply(lambda g: g[g.mkt_cap_lag > (g['mkt_cap_lag'].max() - g['mkt_cap_lag'].min()) * 0.2 + g['mkt_cap_lag'].min()]).reset_index(drop=1)"
   ]
  },
  {
   "cell_type": "code",
   "execution_count": 4,
   "id": "1d9c7664",
   "metadata": {},
   "outputs": [],
   "source": [
    "# Calculate signal: peer tech return\n",
    "tradeable_data = tradeable_data.sort_values([\"focal_permno\",\"date_of_return\"])\n",
    "tradeable_data.loc[:, 'TECHRET'] = tradeable_data.groupby(\"focal_permno\", group_keys=0).apply(lambda g: g[\"ret_tech_peers\"].shift(lags)).reset_index(drop=1).values\n",
    "tradeable_data = tradeable_data.dropna()\n",
    "\n",
    "# Keep focal_permno with >1 data item per day, so that function \"apply_quantiles\" works.\n",
    "tradeable_data['num_per_day'] = tradeable_data.groupby([\"date_of_return\"])['ret_tech_peers'].transform('count')\n",
    "tradeable_data = tradeable_data[tradeable_data['num_per_day'] > 1]\n",
    "tradeable_data = tradeable_data.drop('num_per_day', axis=1)"
   ]
  },
  {
   "cell_type": "code",
   "execution_count": 5,
   "id": "01806355",
   "metadata": {},
   "outputs": [],
   "source": [
    "# Rank assets according to signal.\n",
    "tradeable_data['bin'] = (\n",
    "    tradeable_data\n",
    "    .groupby('date_of_return')\n",
    "    .apply(lambda g: apply_quantiles(g['TECHRET'], bins=10))\n",
    "    .reset_index([0], drop=True)\n",
    "    .sort_index()\n",
    ")\n",
    "\n",
    "# Create 2 portfolios: equally weighted & value weighted \n",
    "portfolios = (\n",
    "    tradeable_data[\n",
    "        tradeable_data['bin'].notnull() &\n",
    "        tradeable_data['ret_tech_peers'].notnull() &\n",
    "        tradeable_data['mkt_cap_lag'].notnull()\n",
    "    ]\n",
    "    .groupby(['bin', 'date_of_return'])[['ret_tech_peers', 'mkt_cap_lag']]\n",
    "    .apply(\n",
    "        lambda g: pd.Series({\n",
    "            'ew': g['ret_tech_peers'].mean(),\n",
    "            'vw': (g['ret_tech_peers'] * g['mkt_cap_lag']).sum() / g['mkt_cap_lag'].sum()\n",
    "        })\n",
    "    )\n",
    "    .reset_index()\n",
    ")"
   ]
  },
  {
   "cell_type": "code",
   "execution_count": 6,
   "id": "dc58f2eb",
   "metadata": {},
   "outputs": [
    {
     "data": {
      "text/plain": [
       "<Axes: xlabel='bin'>"
      ]
     },
     "execution_count": 6,
     "metadata": {},
     "output_type": "execute_result"
    },
    {
     "data": {
      "image/png": "[encoded data removed]",
      "text/plain": [
       "<Figure size 640x480 with 1 Axes>"
      ]
     },
     "metadata": {},
     "output_type": "display_data"
    }
   ],
   "source": [
    "# Weighted return of assets in different bins.\n",
    "portfolios.groupby('bin').agg(weighted_return=('vw', 'mean')).plot(kind='bar')"
   ]
  },
  {
   "cell_type": "code",
   "execution_count": 7,
   "id": "9cc1e0e0",
   "metadata": {},
   "outputs": [
    {
     "data": {
      "text/plain": [
       "<Axes: xlabel='bin'>"
      ]
     },
     "execution_count": 7,
     "metadata": {},
     "output_type": "execute_result"
    },
    {
     "data": {
      "image/png": "[encoded data removed]",
      "text/plain": [
       "<Figure size 640x480 with 1 Axes>"
      ]
     },
     "metadata": {},
     "output_type": "display_data"
    }
   ],
   "source": [
    "# Weighted return of assets in different bins.\n",
    "portfolios.groupby('bin').agg(equal_weight_return=('ew', 'mean')).plot(kind='bar')"
   ]
  },
  {
   "cell_type": "code",
   "execution_count": 8,
   "id": "967a5d86",
   "metadata": {},
   "outputs": [
    {
     "data": {
      "image/png": "[encoded data removed]",
      "text/plain": [
       "<Figure size 640x480 with 1 Axes>"
      ]
     },
     "metadata": {},
     "output_type": "display_data"
    }
   ],
   "source": [
    "# Long, short bins of portfolio, long bin 10 and short bin 1.\n",
    "portfolio_LS = pd.merge(\n",
    "    portfolios.query('bin==10'),\n",
    "    portfolios.query('bin==1'),\n",
    "    suffixes=['_long', '_short'],\n",
    "    on='date_of_return'\n",
    ")\n",
    "portfolio_LS['strategy_vw'] = (portfolio_LS['vw_long'] - portfolio_LS['vw_short'])\n",
    "# plot the pnl curve\n",
    "portfolio_LS['cum_vw'] = (portfolio_LS['strategy_vw'] + 1).cumprod() - 1 # calculates the cumulative return\n",
    "# plot both ew and vw\n",
    "portfolio_LS['strategy_ew'] = (portfolio_LS['ew_long'] - portfolio_LS['ew_short'])\n",
    "portfolio_LS['cum_ew'] = (portfolio_LS['strategy_ew'] + 1).cumprod() - 1 # calculates the cumulative return\n",
    "\n",
    "# plot cum_ew and cum_vw against date\n",
    "(\n",
    "     portfolio_LS\n",
    "    .assign(date=pd.to_datetime(portfolio_LS['date_of_return']))\n",
    "    .assign(cum_vw=portfolio_LS['cum_vw']+1)\n",
    "    .assign(cum_ew=portfolio_LS['cum_ew']+1)\n",
    "    .plot(x='date', y=['cum_ew', 'cum_vw'], logy=True).grid(axis='y')\n",
    ")"
   ]
  },
  {
   "cell_type": "code",
   "execution_count": 9,
   "id": "bccb675d",
   "metadata": {},
   "outputs": [
    {
     "data": {
      "text/html": [
       "<table class=\"simpletable\">\n",
       "<tr>\n",
       "         <td></td>          <th>cum_vw</th>     <th>cum_ew</th>  \n",
       "</tr>\n",
       "<tr>\n",
       "  <th>Intercept</th>       <td>9.8439***</td>  <td>9.7951***</td>\n",
       "</tr>\n",
       "<tr>\n",
       "  <th></th>                <td>(0.3727)</td>   <td>(0.3663)</td> \n",
       "</tr>\n",
       "<tr>\n",
       "  <th>smb</th>              <td>5.9770</td>     <td>5.8123</td>  \n",
       "</tr>\n",
       "<tr>\n",
       "  <th></th>                <td>(12.4430)</td>  <td>(12.2290)</td>\n",
       "</tr>\n",
       "<tr>\n",
       "  <th>hml</th>            <td>-22.6367**</td> <td>-22.4210**</td>\n",
       "</tr>\n",
       "<tr>\n",
       "  <th></th>                <td>(11.3832)</td>  <td>(11.1874)</td>\n",
       "</tr>\n",
       "<tr>\n",
       "  <th>mkt_rf</th>           <td>-2.8557</td>    <td>-2.5641</td> \n",
       "</tr>\n",
       "<tr>\n",
       "  <th></th>                <td>(7.5172)</td>   <td>(7.3880)</td> \n",
       "</tr>\n",
       "<tr>\n",
       "  <th>mom</th>             <td>-15.4092*</td>  <td>-15.4251*</td>\n",
       "</tr>\n",
       "<tr>\n",
       "  <th></th>                <td>(8.9187)</td>   <td>(8.7654)</td> \n",
       "</tr>\n",
       "<tr>\n",
       "  <th>R-squared</th>        <td>0.0052</td>     <td>0.0053</td>  \n",
       "</tr>\n",
       "<tr>\n",
       "  <th>R-squared Adj.</th>   <td>0.0017</td>     <td>0.0018</td>  \n",
       "</tr>\n",
       "</table>"
      ],
      "text/plain": [
       "<class 'statsmodels.iolib.summary2.Summary'>\n",
       "\"\"\"\n",
       "\n",
       "====================================\n",
       "                 cum_vw     cum_ew  \n",
       "------------------------------------\n",
       "Intercept      9.8439***  9.7951*** \n",
       "               (0.3727)   (0.3663)  \n",
       "smb            5.9770     5.8123    \n",
       "               (12.4430)  (12.2290) \n",
       "hml            -22.6367** -22.4210**\n",
       "               (11.3832)  (11.1874) \n",
       "mkt_rf         -2.8557    -2.5641   \n",
       "               (7.5172)   (7.3880)  \n",
       "mom            -15.4092*  -15.4251* \n",
       "               (8.9187)   (8.7654)  \n",
       "R-squared      0.0052     0.0053    \n",
       "R-squared Adj. 0.0017     0.0018    \n",
       "====================================\n",
       "Standard errors in parentheses.\n",
       "* p<.1, ** p<.05, ***p<.01\n",
       "\"\"\""
      ]
     },
     "execution_count": 9,
     "metadata": {},
     "output_type": "execute_result"
    }
   ],
   "source": [
    "import statsmodels.formula.api as smf\n",
    "import statsmodels.api as sm\n",
    "# Regress with 4 factors\n",
    "benchmark = pd.read_parquet('four_factor_monthly.parquet')\n",
    "benchmark_merged = pd.merge(\n",
    "    (\n",
    "        benchmark\n",
    "        .assign(date=pd.to_datetime(benchmark['dt']))\n",
    "        .assign(yearmonth=lambda df: df['date'].dt.year * 12 + df['date'].dt.month)\n",
    "    ),\n",
    "    (\n",
    "        portfolio_LS\n",
    "        .assign(date=pd.to_datetime(portfolio_LS['date_of_return']))\n",
    "        .assign(yearmonth=lambda df: df['date'].dt.year * 12 + df['date'].dt.month)\n",
    "    ),\n",
    "    on='yearmonth'\n",
    ")\n",
    "l1 = smf.ols('cum_vw ~ 1 + smb + hml + mkt_rf + mom', data=benchmark_merged).fit()\n",
    "l2 = smf.ols('cum_ew ~ 1 + smb + hml + mkt_rf + mom', data=benchmark_merged).fit()\n",
    "sm.iolib.summary2.summary_col([l1, l2], stars=True)"
   ]
  },
  {
   "cell_type": "code",
   "execution_count": 10,
   "id": "59b44341",
   "metadata": {},
   "outputs": [
    {
     "data": {
      "text/html": [
       "<table class=\"simpletable\">\n",
       "<tr>\n",
       "         <td></td>          <th>cum_vw</th>     <th>cum_ew</th>  \n",
       "</tr>\n",
       "<tr>\n",
       "  <th>Intercept</th>      <td>15.0719***</td> <td>14.9521***</td>\n",
       "</tr>\n",
       "<tr>\n",
       "  <th></th>                <td>(0.5110)</td>   <td>(0.5009)</td> \n",
       "</tr>\n",
       "<tr>\n",
       "  <th>mkt_rf</th>           <td>3.6187</td>     <td>4.5484</td>  \n",
       "</tr>\n",
       "<tr>\n",
       "  <th></th>                <td>(12.5937)</td>  <td>(12.3457)</td>\n",
       "</tr>\n",
       "<tr>\n",
       "  <th>smb</th>              <td>8.2171</td>     <td>7.9070</td>  \n",
       "</tr>\n",
       "<tr>\n",
       "  <th></th>                <td>(17.7652)</td>  <td>(17.4154)</td>\n",
       "</tr>\n",
       "<tr>\n",
       "  <th>hml</th>             <td>-40.5041*</td>  <td>-40.4895*</td>\n",
       "</tr>\n",
       "<tr>\n",
       "  <th></th>                <td>(23.7989)</td>  <td>(23.3303)</td>\n",
       "</tr>\n",
       "<tr>\n",
       "  <th>rmw</th>              <td>24.6660</td>    <td>24.1073</td> \n",
       "</tr>\n",
       "<tr>\n",
       "  <th></th>                <td>(24.5533)</td>  <td>(24.0698)</td>\n",
       "</tr>\n",
       "<tr>\n",
       "  <th>cma</th>              <td>18.9393</td>    <td>20.9432</td> \n",
       "</tr>\n",
       "<tr>\n",
       "  <th></th>                <td>(36.4100)</td>  <td>(35.6931)</td>\n",
       "</tr>\n",
       "<tr>\n",
       "  <th>R-squared</th>        <td>0.0066</td>     <td>0.0067</td>  \n",
       "</tr>\n",
       "<tr>\n",
       "  <th>R-squared Adj.</th>   <td>-0.0007</td>    <td>-0.0006</td> \n",
       "</tr>\n",
       "</table>"
      ],
      "text/plain": [
       "<class 'statsmodels.iolib.summary2.Summary'>\n",
       "\"\"\"\n",
       "\n",
       "====================================\n",
       "                 cum_vw     cum_ew  \n",
       "------------------------------------\n",
       "Intercept      15.0719*** 14.9521***\n",
       "               (0.5110)   (0.5009)  \n",
       "mkt_rf         3.6187     4.5484    \n",
       "               (12.5937)  (12.3457) \n",
       "smb            8.2171     7.9070    \n",
       "               (17.7652)  (17.4154) \n",
       "hml            -40.5041*  -40.4895* \n",
       "               (23.7989)  (23.3303) \n",
       "rmw            24.6660    24.1073   \n",
       "               (24.5533)  (24.0698) \n",
       "cma            18.9393    20.9432   \n",
       "               (36.4100)  (35.6931) \n",
       "R-squared      0.0066     0.0067    \n",
       "R-squared Adj. -0.0007    -0.0006   \n",
       "====================================\n",
       "Standard errors in parentheses.\n",
       "* p<.1, ** p<.05, ***p<.01\n",
       "\"\"\""
      ]
     },
     "execution_count": 10,
     "metadata": {},
     "output_type": "execute_result"
    }
   ],
   "source": [
    "# Regress with 5 factors\n",
    "benchmark = pd.read_parquet('five_factor_monthly.parquet')\n",
    "benchmark_merged = pd.merge(\n",
    "    (\n",
    "        benchmark\n",
    "        .assign(date=pd.to_datetime(benchmark['dt']))\n",
    "        .assign(yearmonth=lambda df: df['date'].dt.year * 12 + df['date'].dt.month)\n",
    "    ),\n",
    "    (\n",
    "        portfolio_LS\n",
    "        .assign(date=pd.to_datetime(portfolio_LS['date_of_return']))\n",
    "        .assign(yearmonth=lambda df: df['date'].dt.year * 12 + df['date'].dt.month)\n",
    "    ),\n",
    "    on='yearmonth'\n",
    ")\n",
    "\n",
    "l1 = smf.ols('cum_vw ~ 1 + mkt_rf + smb + hml + rmw + cma', data=benchmark_merged).fit()\n",
    "l2 = smf.ols('cum_ew ~ 1 + mkt_rf + smb + hml + rmw + cma', data=benchmark_merged).fit()\n",
    "sm.iolib.summary2.summary_col([l1, l2], stars=True)"
   ]
  },
  {
   "cell_type": "code",
   "execution_count": null,
   "id": "1228ec06",
   "metadata": {},
   "outputs": [],
   "source": []
  }
 ],
 "metadata": {
  "kernelspec": {
   "display_name": "Python 3 (ipykernel)",
   "language": "python",
   "name": "python3"
  },
  "language_info": {
   "codemirror_mode": {
    "name": "ipython",
    "version": 3
   },
   "file_extension": ".py",
   "mimetype": "text/x-python",
   "name": "python",
   "nbconvert_exporter": "python",
   "pygments_lexer": "ipython3",
   "version": "3.8.10"
  }
 },
 "nbformat": 4,
 "nbformat_minor": 5
}
